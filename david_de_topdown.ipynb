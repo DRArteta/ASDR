{
  "nbformat": 4,
  "nbformat_minor": 0,
  "metadata": {
    "kernelspec": {
      "display_name": "compiler",
      "language": "python",
      "name": "compiler"
    },
    "language_info": {
      "codemirror_mode": {
        "name": "ipython",
        "version": 3
      },
      "file_extension": ".py",
      "mimetype": "text/x-python",
      "name": "python",
      "nbconvert_exporter": "python",
      "pygments_lexer": "ipython3",
      "version": "3.8.5"
    },
    "colab": {
      "provenance": []
    }
  },
  "cells": [
    {
      "cell_type": "markdown",
      "metadata": {
        "id": "qJetHAGCdHtg"
      },
      "source": [
        "# Analizador Descendente Recursivo"
      ]
    },
    {
      "cell_type": "markdown",
      "metadata": {
        "id": "bveJvRbydHti"
      },
      "source": [
        "Un __analizador sintáctico descendente recursivo__ es un tipo de analizador de arriba hacia abajo construido a partir de un conjunto de mutuamente recursivos procedimientos (o un equivalente no recursiva), donde cada una de dichas procedimiento pone en práctica uno de los no terminales de la gramática . Así, la estructura del programa resultante refleja fielmente la de la gramática que reconoce."
      ]
    },
    {
      "cell_type": "markdown",
      "metadata": {
        "id": "p8S9JyDldHti"
      },
      "source": [
        "# Implementación de una Calculadora"
      ]
    },
    {
      "cell_type": "markdown",
      "metadata": {
        "id": "MVxJcaSJdHtj"
      },
      "source": [
        "```\n",
        "assignment ::= 'IDENT' '=' expression ';'\n",
        "\n",
        "expression ::= term ( ('+'|'-') term )*\n",
        "\n",
        "term ::= factor ( ('*'|'/') factor )*\n",
        "\n",
        "factor ::= 'IDENT' | 'NUMBER' | '(' expression ')'\n",
        "```"
      ]
    },
    {
      "cell_type": "markdown",
      "metadata": {
        "id": "L6wTGosZdHtm"
      },
      "source": [
        "## Analizador Léxico"
      ]
    },
    {
      "cell_type": "code",
      "metadata": {
        "id": "nALs-mgc82eb",
        "outputId": "d308758f-c21b-4a45-efc1-218be7567e3e",
        "colab": {
          "base_uri": "https://localhost:8080/",
          "height": 292
        }
      },
      "source": [
        "!pip install sly\n",
        "!pip install multimethod\n",
        "!pip install graphviz"
      ],
      "execution_count": null,
      "outputs": [
        {
          "output_type": "stream",
          "text": [
            "Collecting sly\n",
            "\u001b[?25l  Downloading https://files.pythonhosted.org/packages/7b/16/62a654feb0eaf64669b04c99ec6335a3937c1991620c716dcdd9a0f9d095/sly-0.4.tar.gz (60kB)\n",
            "\r\u001b[K     |█████▍                          | 10kB 16.4MB/s eta 0:00:01\r\u001b[K     |██████████▉                     | 20kB 1.5MB/s eta 0:00:01\r\u001b[K     |████████████████▎               | 30kB 2.0MB/s eta 0:00:01\r\u001b[K     |█████████████████████▋          | 40kB 1.5MB/s eta 0:00:01\r\u001b[K     |███████████████████████████     | 51kB 1.8MB/s eta 0:00:01\r\u001b[K     |████████████████████████████████| 61kB 1.7MB/s \n",
            "\u001b[?25hBuilding wheels for collected packages: sly\n",
            "  Building wheel for sly (setup.py) ... \u001b[?25l\u001b[?25hdone\n",
            "  Created wheel for sly: filename=sly-0.4-cp36-none-any.whl size=27355 sha256=bb7924d8e4c2e616f8e02dd2b898beb3d74a8bcdfa0c245f0785b98299d5fa78\n",
            "  Stored in directory: /root/.cache/pip/wheels/dc/a1/a5/c955c27208da560f3a83176974d81c1c7ba09a647f7832c196\n",
            "Successfully built sly\n",
            "Installing collected packages: sly\n",
            "Successfully installed sly-0.4\n",
            "Collecting multimethod\n",
            "  Downloading https://files.pythonhosted.org/packages/7a/d0/ce5ad0392aa12645b7ad91a5983d6b625b704b021d9cd48c587630c1a9ac/multimethod-1.4-py2.py3-none-any.whl\n",
            "Installing collected packages: multimethod\n",
            "Successfully installed multimethod-1.4\n",
            "Requirement already satisfied: graphviz in /usr/local/lib/python3.6/dist-packages (0.10.1)\n"
          ],
          "name": "stdout"
        }
      ]
    },
    {
      "cell_type": "code",
      "metadata": {
        "id": "dO_G7XgMdHtp",
        "outputId": "8163c7f9-3764-4606-9e80-12283746b3e6",
        "colab": {
          "base_uri": "https://localhost:8080/",
          "height": 369
        }
      },
      "source": [
        "from sly import Lexer\n",
        "\n",
        "class Tokenizer(Lexer):\n",
        "\n",
        "    tokens = { IDENT, NUMBER, }\n",
        "    literals = '+-*/=();^'\n",
        "\n",
        "    ignore = ' \\t'\n",
        "\n",
        "    # Expresiones Regulares\n",
        "    IDENT  = r'[a-zA-Z_][a-zA-Z0-9_]*'\n",
        "    NUMBER = r'\\d+(\\.\\d*)?([eE][-+]?\\d+)?'\n",
        "\n",
        "    def NUMBER(self, t):\n",
        "        t.value = float(t.value)\n",
        "        return t\n",
        "\n",
        "    def error(self, t):\n",
        "        print(f'Error Léxico: {t.value[0]}')\n",
        "        self.index += 1"
      ],
      "execution_count": null,
      "outputs": [
        {
          "output_type": "error",
          "ename": "ModuleNotFoundError",
          "evalue": "ignored",
          "traceback": [
            "\u001b[0;31m---------------------------------------------------------------------------\u001b[0m",
            "\u001b[0;31mModuleNotFoundError\u001b[0m                       Traceback (most recent call last)",
            "\u001b[0;32m<ipython-input-1-1d3bfce785f5>\u001b[0m in \u001b[0;36m<module>\u001b[0;34m()\u001b[0m\n\u001b[0;32m----> 1\u001b[0;31m \u001b[0;32mfrom\u001b[0m \u001b[0msly\u001b[0m \u001b[0;32mimport\u001b[0m \u001b[0mLexer\u001b[0m\u001b[0;34m\u001b[0m\u001b[0;34m\u001b[0m\u001b[0m\n\u001b[0m\u001b[1;32m      2\u001b[0m \u001b[0;34m\u001b[0m\u001b[0m\n\u001b[1;32m      3\u001b[0m \u001b[0;32mclass\u001b[0m \u001b[0mTokenizer\u001b[0m\u001b[0;34m(\u001b[0m\u001b[0mLexer\u001b[0m\u001b[0;34m)\u001b[0m\u001b[0;34m:\u001b[0m\u001b[0;34m\u001b[0m\u001b[0;34m\u001b[0m\u001b[0m\n\u001b[1;32m      4\u001b[0m \u001b[0;34m\u001b[0m\u001b[0m\n\u001b[1;32m      5\u001b[0m     \u001b[0mtokens\u001b[0m \u001b[0;34m=\u001b[0m \u001b[0;34m{\u001b[0m \u001b[0mIDENT\u001b[0m\u001b[0;34m,\u001b[0m \u001b[0mNUMBER\u001b[0m\u001b[0;34m,\u001b[0m \u001b[0;34m}\u001b[0m\u001b[0;34m\u001b[0m\u001b[0;34m\u001b[0m\u001b[0m\n",
            "\u001b[0;31mModuleNotFoundError\u001b[0m: No module named 'sly'",
            "",
            "\u001b[0;31m---------------------------------------------------------------------------\u001b[0;32m\nNOTE: If your import is failing due to a missing package, you can\nmanually install dependencies using either !pip or !apt.\n\nTo view examples of installing some common dependencies, click the\n\"Open Examples\" button below.\n\u001b[0;31m---------------------------------------------------------------------------\u001b[0m\n"
          ]
        }
      ]
    },
    {
      "cell_type": "markdown",
      "metadata": {
        "id": "0AlZzFB1dHtt"
      },
      "source": [
        "# Estructura del AST"
      ]
    },
    {
      "cell_type": "markdown",
      "metadata": {
        "id": "mpI_oJaYdHtt"
      },
      "source": [
        "### Patron Visitor\n",
        "\n",
        "![](data:image/png;base64,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)"
      ]
    },
    {
      "cell_type": "markdown",
      "metadata": {
        "id": "nGuiPz7odHtu"
      },
      "source": [
        "### Definición de Clases"
      ]
    },
    {
      "cell_type": "code",
      "metadata": {
        "id": "8PnlDL47dHtu"
      },
      "source": [
        "from typing import Any, List\n",
        "from dataclasses import dataclass, field\n",
        "from multimethod import multimeta\n",
        "\n",
        "# clases Abstractas\n",
        "class Visitor(metaclass=multimeta):\n",
        "    pass\n",
        "\n",
        "@dataclass\n",
        "class Node:\n",
        "    def accept(self, visitor: Visitor, *args, **kwargs):\n",
        "        return visitor.visit(self, *args, **kwargs)\n",
        "\n",
        "@dataclass\n",
        "class Statement(Node):\n",
        "    pass\n",
        "\n",
        "@dataclass\n",
        "class Expression(Node):\n",
        "    pass\n",
        "\n",
        "@dataclass\n",
        "class Literal(Expression):\n",
        "    '''\n",
        "    Una Constante como 2, 2.5, 'dos', Nil, True, False\n",
        "    '''\n",
        "    pass\n",
        "\n",
        "@dataclass\n",
        "class Location(Node):\n",
        "    pass\n",
        "\n",
        "# Nodos Reales del AST\n",
        "@dataclass\n",
        "class Number(Literal):\n",
        "    value : float\n",
        "\n",
        "@dataclass\n",
        "class SimpleLocation(Location):\n",
        "    name : str\n",
        "\n",
        "@dataclass\n",
        "class ReadLocation(Expression):\n",
        "    location : Location\n",
        "\n",
        "@dataclass\n",
        "class WriteLocation(Statement):\n",
        "    location : Location\n",
        "    expr     : Expression\n",
        "\n",
        "@dataclass\n",
        "class Binop(Expression):\n",
        "    '''\n",
        "    Operador binario como: +, -, *. /\n",
        "    '''\n",
        "    op    : str\n",
        "    left  : Expression\n",
        "    right : Expression\n",
        "\n"
      ],
      "execution_count": null,
      "outputs": []
    },
    {
      "cell_type": "markdown",
      "metadata": {
        "id": "M_s6wS3WdHty"
      },
      "source": [
        "## Render para el AST"
      ]
    },
    {
      "cell_type": "markdown",
      "metadata": {
        "id": "FKppXvwodHty"
      },
      "source": [
        "## Analizador Descendente Recursivo"
      ]
    },
    {
      "cell_type": "code",
      "metadata": {
        "id": "14IarSk3dHtz"
      },
      "source": [
        "class RecursiveDescentParser(object):\n",
        "    '''\n",
        "    Implementacion de un Analizador descendente recursivo.\n",
        "    Cada metodo implementa una sola regla de la gramatica.\n",
        "\n",
        "    Use el metodo ._accept() para probar y aceptar el token actualmente leido.\n",
        "    Use el metodo ._expect() para coincidir y descartar exactamente el token\n",
        "    siguiente en la entrada (o levantar un SystemError si no coincide).\n",
        "\n",
        "    El atributo .tok contiene el ultimo token aceptado.\n",
        "    El atributo .nexttok contiene el siguiente token leido.\n",
        "    '''\n",
        "    # Tabla de simbolos\n",
        "\n",
        "    operaciones = {}\n",
        "\n",
        "    def operacion(self,nombre, expresion):\n",
        "      operaciones = {nombre: expresion}\n",
        "\n",
        "    def reoperacion(self):\n",
        "      return self.operaciones\n",
        "\n",
        "    def _continue(self):\n",
        "        'Continues searching for more expressions'\n",
        "        if self.nexttok:\n",
        "            if self.nexttok.type == 'IDENT':\n",
        "                'Entry point to parsing the next expression'\n",
        "                return self.assignment()\n",
        "        else:\n",
        "            return False\n",
        "\n",
        "    def assignment(self):\n",
        "        '''\n",
        "        assignment : [IDENT = expression ;, IDENT = expression ;, ...]\n",
        "        '''\n",
        "        ExpressionList = []\n",
        "        if self._accept('IDENT'):\n",
        "            name = self.tok.value\n",
        "            self._expect('=')\n",
        "            expr = self.expression()\n",
        "            self._expect(';')\n",
        "            #self.operacion(name, expr)\n",
        "            ExpressionList.append(WriteLocation(SimpleLocation(name), expr))\n",
        "            self._continue()\n",
        "            return ExpressionList\n",
        "        else:\n",
        "            raise SyntaxError('Error de sintaxis en Asignación')\n",
        "\n",
        "    def expression(self):\n",
        "        '''\n",
        "        expression : term ( ('+'|'-') term )*\n",
        "        '''\n",
        "        expr = self.term()\n",
        "        while self._accept('+') or self._accept('-'):\n",
        "            op    = self.tok.value\n",
        "            right = self.term()\n",
        "            expr  = Binop(op, expr, right)\n",
        "\n",
        "        return expr\n",
        "\n",
        "\n",
        "\n",
        "    def term(self):\n",
        "        '''\n",
        "        term : factor ( ('*'|'/'|'^') factor )*\n",
        "        '''\n",
        "        term = self.factor()\n",
        "        while self._accept('*') or self._accept('/') or self._accept('^'):\n",
        "            op    = self.tok.value\n",
        "            right = self.factor()\n",
        "            term  = Binop(op, term, right)\n",
        "\n",
        "        return term\n",
        "\n",
        "    def factor(self):\n",
        "        '''\n",
        "        factor : IDENT | NUMBER | ( expression )\n",
        "        '''\n",
        "        if self._accept('IDENT'):\n",
        "            return ReadLocation(SimpleLocation(self.tok.value))\n",
        "\n",
        "        elif self._accept('NUMBER'):\n",
        "            return Number(self.tok.value)\n",
        "\n",
        "        elif self._accept('('):\n",
        "            expr = self.expression()\n",
        "            self._expect(')')\n",
        "            return expr\n",
        "\n",
        "        else:\n",
        "            raise SyntaxError('Error de sintaxis en factor')\n",
        "\n",
        "\n",
        "    # -----------------------------------------\n",
        "    # Funciones de Utilidad.  No cambie nada\n",
        "    #\n",
        "    def _advance(self):\n",
        "        'Advanced the tokenizer by one symbol'\n",
        "        self.tok, self.nexttok = self.nexttok, next(self.tokens, None) + next(self.tokens,None)\n",
        "\n",
        "    def _accept(self, toktype):\n",
        "        'Consume the next token if it matches an expected type'\n",
        "        if self.nexttok and self.nexttok.type == toktype:\n",
        "            self._advance()\n",
        "            return True\n",
        "        else:\n",
        "            return False\n",
        "\n",
        "    def _expect(self, toktype):\n",
        "        'Consume and discard the next token or raise SyntaxError'\n",
        "        if not self._accept(toktype):\n",
        "            raise SyntaxError(\"Expected %s\" % toktype)\n",
        "\n",
        "    def start(self):\n",
        "        'Entry point to parsing'\n",
        "        self._advance()              # Load first lookahead token\n",
        "        return self.assignment()\n",
        "\n",
        "    def parse(self, tokens):\n",
        "        'Entry point to parsing'\n",
        "        self.tok = None         # Last symbol consumed\n",
        "        self.nexttok = None     # Next symbol tokenized\n",
        "        self.tokens = tokens\n",
        "        return self.start()"
      ],
      "execution_count": null,
      "outputs": []
    },
    {
      "cell_type": "code",
      "metadata": {
        "id": "MjQidJOVdHt4",
        "outputId": "54699b71-3c6a-483d-c8f0-5b7f500f2678",
        "colab": {
          "base_uri": "https://localhost:8080/",
          "height": 34
        }
      },
      "source": [
        "text   = \"a = 4+2;y=5+2;\"\n",
        "\n",
        "lexer  = Tokenizer()\n",
        "parser = RecursiveDescentParser()\n",
        "\n",
        "ast = parser.parse(lexer.tokenize(text))\n",
        "\n",
        "ast"
      ],
      "execution_count": null,
      "outputs": [
        {
          "output_type": "execute_result",
          "data": {
            "text/plain": [
              "[WriteLocation(location=SimpleLocation(name='a'), expr=Binop(op='+', left=Number(value=4.0), right=Number(value=2.0)))]"
            ]
          },
          "metadata": {
            "tags": []
          },
          "execution_count": 5
        }
      ]
    },
    {
      "cell_type": "code",
      "metadata": {
        "id": "13_qkAmydHt-"
      },
      "source": [
        "from graphviz import Digraph\n",
        "\n",
        "class ASTRender(Visitor):\n",
        "    '''\n",
        "    Crea archivo tipo 'dot' para Graphiz\n",
        "    '''\n",
        "    _node_defaults = {\n",
        "        'shape': 'box',\n",
        "        'color': 'lightblue2',\n",
        "        'style': 'filled'\n",
        "    }\n",
        "\n",
        "\n",
        "\n",
        "\n",
        "    def operacion(valor1,valor2,operacion):\n",
        "\n",
        "        if operacion == '+':\n",
        "          resultado = valor1 + valor2\n",
        "        elif operacion == '-':\n",
        "          resultado = valor1 - valor2\n",
        "        elif operacion == '/':\n",
        "          resultado = valor1 / valor2\n",
        "        elif operacion == '*':\n",
        "          resultado = valor1 * valor2\n",
        "        elif operacion == '^':\n",
        "          resultado = valor1 ** valor2\n",
        "        return resultado\n",
        "\n",
        "\n",
        "    _edge_defaults = { }\n",
        "\n",
        "\n",
        "    def __init__(self):\n",
        "        '''\n",
        "        creamos un obj del tipo dot que se va a llamar AST\n",
        "        '''\n",
        "        self.dot = Digraph('AST', comment='AST para Calculadora')\n",
        "        self.dot.attr('node', **self._node_defaults)\n",
        "        self.dot.attr('edge', **self._edge_defaults)\n",
        "        self.id =0\n",
        "\n",
        "    @classmethod\n",
        "    def render(cls, model):\n",
        "        renderer = cls()\n",
        "        model.accept(renderer)\n",
        "\n",
        "    def __repr__(self):\n",
        "        return self.dot\n",
        "\n",
        "    def _id(self):\n",
        "        self.id += 1\n",
        "        return 'n%02d' % self.id\n",
        "\n",
        "    def visit(self, node):\n",
        "        assignaciones = {}\n",
        "        resultado = 0\n",
        "\n",
        "\n",
        "\n",
        "    def visit(self, node: Binop):\n",
        "        name = self._id()\n",
        "        label = 'binop\\nop: {}'.format(node.op)\n",
        "        self.dot.node(name, label)\n",
        "        self.dot.edge(name, self.visit(node.left))\n",
        "        self.dot.edge(name, self.visit(node.right))\n",
        "        return name\n",
        "\n",
        "    def visit(self, node: WriteLocation):\n",
        "        name = self._id()\n",
        "        label = 'assign'\n",
        "        self.dot.node(name, label)\n",
        "        self.dot.edge(name, self.visit(node.location))\n",
        "        self.dot.edge(name, self.visit(node.expr))\n",
        "        return name\n",
        "\n",
        "    def visit(self, node: Number):\n",
        "        name = self._id()\n",
        "        label = 'constant\\nvalue: {}'.format(node.value)\n",
        "        self.dot.node(name, label, color='yellow')   # color amarillo\n",
        "        return name\n",
        "\n",
        "    def visit(self, node: SimpleLocation):\n",
        "        name = self._id()\n",
        "        assignaciones[node.name] = 0\n",
        "        label = 'variable\\nname: {}'.format(node.name)\n",
        "        self.dot.node(name, label, color='limegreen')\n",
        "        return name"
      ],
      "execution_count": null,
      "outputs": []
    },
    {
      "cell_type": "code",
      "metadata": {
        "id": "2ULRrqGmdHuH",
        "outputId": "00eafe96-0a59-4555-a11f-108f156bbc41",
        "colab": {
          "base_uri": "https://localhost:8080/",
          "height": 359
        }
      },
      "source": [
        "dot = ASTRender()\n",
        "for i in ast:\n",
        "  i.accept(dot)\n",
        "ast[0]"
      ],
      "execution_count": null,
      "outputs": [
        {
          "output_type": "error",
          "ename": "NameError",
          "evalue": "ignored",
          "traceback": [
            "\u001b[0;31m---------------------------------------------------------------------------\u001b[0m",
            "\u001b[0;31mNameError\u001b[0m                                 Traceback (most recent call last)",
            "\u001b[0;32m<ipython-input-7-acee156dce88>\u001b[0m in \u001b[0;36m<module>\u001b[0;34m()\u001b[0m\n\u001b[1;32m      1\u001b[0m \u001b[0mdot\u001b[0m \u001b[0;34m=\u001b[0m \u001b[0mASTRender\u001b[0m\u001b[0;34m(\u001b[0m\u001b[0;34m)\u001b[0m\u001b[0;34m\u001b[0m\u001b[0;34m\u001b[0m\u001b[0m\n\u001b[1;32m      2\u001b[0m \u001b[0;32mfor\u001b[0m \u001b[0mi\u001b[0m \u001b[0;32min\u001b[0m \u001b[0mast\u001b[0m\u001b[0;34m:\u001b[0m\u001b[0;34m\u001b[0m\u001b[0;34m\u001b[0m\u001b[0m\n\u001b[0;32m----> 3\u001b[0;31m   \u001b[0mi\u001b[0m\u001b[0;34m.\u001b[0m\u001b[0maccept\u001b[0m\u001b[0;34m(\u001b[0m\u001b[0mdot\u001b[0m\u001b[0;34m)\u001b[0m\u001b[0;34m\u001b[0m\u001b[0;34m\u001b[0m\u001b[0m\n\u001b[0m\u001b[1;32m      4\u001b[0m \u001b[0mast\u001b[0m\u001b[0;34m[\u001b[0m\u001b[0;36m0\u001b[0m\u001b[0;34m]\u001b[0m\u001b[0;34m\u001b[0m\u001b[0;34m\u001b[0m\u001b[0m\n",
            "\u001b[0;32m<ipython-input-3-5bc25b2313fa>\u001b[0m in \u001b[0;36maccept\u001b[0;34m(self, visitor, *args, **kwargs)\u001b[0m\n\u001b[1;32m     10\u001b[0m \u001b[0;32mclass\u001b[0m \u001b[0mNode\u001b[0m\u001b[0;34m:\u001b[0m\u001b[0;34m\u001b[0m\u001b[0;34m\u001b[0m\u001b[0m\n\u001b[1;32m     11\u001b[0m     \u001b[0;32mdef\u001b[0m \u001b[0maccept\u001b[0m\u001b[0;34m(\u001b[0m\u001b[0mself\u001b[0m\u001b[0;34m,\u001b[0m \u001b[0mvisitor\u001b[0m\u001b[0;34m:\u001b[0m \u001b[0mVisitor\u001b[0m\u001b[0;34m,\u001b[0m \u001b[0;34m*\u001b[0m\u001b[0margs\u001b[0m\u001b[0;34m,\u001b[0m \u001b[0;34m**\u001b[0m\u001b[0mkwargs\u001b[0m\u001b[0;34m)\u001b[0m\u001b[0;34m:\u001b[0m\u001b[0;34m\u001b[0m\u001b[0;34m\u001b[0m\u001b[0m\n\u001b[0;32m---> 12\u001b[0;31m         \u001b[0;32mreturn\u001b[0m \u001b[0mvisitor\u001b[0m\u001b[0;34m.\u001b[0m\u001b[0mvisit\u001b[0m\u001b[0;34m(\u001b[0m\u001b[0mself\u001b[0m\u001b[0;34m,\u001b[0m \u001b[0;34m*\u001b[0m\u001b[0margs\u001b[0m\u001b[0;34m,\u001b[0m \u001b[0;34m**\u001b[0m\u001b[0mkwargs\u001b[0m\u001b[0;34m)\u001b[0m\u001b[0;34m\u001b[0m\u001b[0;34m\u001b[0m\u001b[0m\n\u001b[0m\u001b[1;32m     13\u001b[0m \u001b[0;34m\u001b[0m\u001b[0m\n\u001b[1;32m     14\u001b[0m \u001b[0;34m@\u001b[0m\u001b[0mdataclass\u001b[0m\u001b[0;34m\u001b[0m\u001b[0;34m\u001b[0m\u001b[0m\n",
            "\u001b[0;32m/usr/local/lib/python3.6/dist-packages/multimethod/__init__.py\u001b[0m in \u001b[0;36m__call__\u001b[0;34m(self, *args, **kwargs)\u001b[0m\n\u001b[1;32m    182\u001b[0m     \u001b[0;32mdef\u001b[0m \u001b[0m__call__\u001b[0m\u001b[0;34m(\u001b[0m\u001b[0mself\u001b[0m\u001b[0;34m,\u001b[0m \u001b[0;34m*\u001b[0m\u001b[0margs\u001b[0m\u001b[0;34m,\u001b[0m \u001b[0;34m**\u001b[0m\u001b[0mkwargs\u001b[0m\u001b[0;34m)\u001b[0m\u001b[0;34m:\u001b[0m\u001b[0;34m\u001b[0m\u001b[0;34m\u001b[0m\u001b[0m\n\u001b[1;32m    183\u001b[0m         \u001b[0;34m\"\"\"Resolve and dispatch to best method.\"\"\"\u001b[0m\u001b[0;34m\u001b[0m\u001b[0;34m\u001b[0m\u001b[0m\n\u001b[0;32m--> 184\u001b[0;31m         \u001b[0;32mreturn\u001b[0m \u001b[0mself\u001b[0m\u001b[0;34m[\u001b[0m\u001b[0mtuple\u001b[0m\u001b[0;34m(\u001b[0m\u001b[0mmap\u001b[0m\u001b[0;34m(\u001b[0m\u001b[0mself\u001b[0m\u001b[0;34m.\u001b[0m\u001b[0mget_type\u001b[0m\u001b[0;34m,\u001b[0m \u001b[0margs\u001b[0m\u001b[0;34m)\u001b[0m\u001b[0;34m)\u001b[0m\u001b[0;34m]\u001b[0m\u001b[0;34m(\u001b[0m\u001b[0;34m*\u001b[0m\u001b[0margs\u001b[0m\u001b[0;34m,\u001b[0m \u001b[0;34m**\u001b[0m\u001b[0mkwargs\u001b[0m\u001b[0;34m)\u001b[0m\u001b[0;34m\u001b[0m\u001b[0;34m\u001b[0m\u001b[0m\n\u001b[0m\u001b[1;32m    185\u001b[0m \u001b[0;34m\u001b[0m\u001b[0m\n\u001b[1;32m    186\u001b[0m     \u001b[0;32mdef\u001b[0m \u001b[0mevaluate\u001b[0m\u001b[0;34m(\u001b[0m\u001b[0mself\u001b[0m\u001b[0;34m)\u001b[0m\u001b[0;34m:\u001b[0m\u001b[0;34m\u001b[0m\u001b[0;34m\u001b[0m\u001b[0m\n",
            "\u001b[0;32m<ipython-input-6-4f4f6098dbaf>\u001b[0m in \u001b[0;36mvisit\u001b[0;34m(self, node)\u001b[0m\n\u001b[1;32m     71\u001b[0m         \u001b[0mlabel\u001b[0m \u001b[0;34m=\u001b[0m \u001b[0;34m'assign'\u001b[0m\u001b[0;34m\u001b[0m\u001b[0;34m\u001b[0m\u001b[0m\n\u001b[1;32m     72\u001b[0m         \u001b[0mself\u001b[0m\u001b[0;34m.\u001b[0m\u001b[0mdot\u001b[0m\u001b[0;34m.\u001b[0m\u001b[0mnode\u001b[0m\u001b[0;34m(\u001b[0m\u001b[0mname\u001b[0m\u001b[0;34m,\u001b[0m \u001b[0mlabel\u001b[0m\u001b[0;34m)\u001b[0m\u001b[0;34m\u001b[0m\u001b[0;34m\u001b[0m\u001b[0m\n\u001b[0;32m---> 73\u001b[0;31m         \u001b[0mself\u001b[0m\u001b[0;34m.\u001b[0m\u001b[0mdot\u001b[0m\u001b[0;34m.\u001b[0m\u001b[0medge\u001b[0m\u001b[0;34m(\u001b[0m\u001b[0mname\u001b[0m\u001b[0;34m,\u001b[0m \u001b[0mself\u001b[0m\u001b[0;34m.\u001b[0m\u001b[0mvisit\u001b[0m\u001b[0;34m(\u001b[0m\u001b[0mnode\u001b[0m\u001b[0;34m.\u001b[0m\u001b[0mlocation\u001b[0m\u001b[0;34m)\u001b[0m\u001b[0;34m)\u001b[0m\u001b[0;34m\u001b[0m\u001b[0;34m\u001b[0m\u001b[0m\n\u001b[0m\u001b[1;32m     74\u001b[0m         \u001b[0mself\u001b[0m\u001b[0;34m.\u001b[0m\u001b[0mdot\u001b[0m\u001b[0;34m.\u001b[0m\u001b[0medge\u001b[0m\u001b[0;34m(\u001b[0m\u001b[0mname\u001b[0m\u001b[0;34m,\u001b[0m \u001b[0mself\u001b[0m\u001b[0;34m.\u001b[0m\u001b[0mvisit\u001b[0m\u001b[0;34m(\u001b[0m\u001b[0mnode\u001b[0m\u001b[0;34m.\u001b[0m\u001b[0mexpr\u001b[0m\u001b[0;34m)\u001b[0m\u001b[0;34m)\u001b[0m\u001b[0;34m\u001b[0m\u001b[0;34m\u001b[0m\u001b[0m\n\u001b[1;32m     75\u001b[0m         \u001b[0;32mreturn\u001b[0m \u001b[0mname\u001b[0m\u001b[0;34m\u001b[0m\u001b[0;34m\u001b[0m\u001b[0m\n",
            "\u001b[0;32m/usr/local/lib/python3.6/dist-packages/multimethod/__init__.py\u001b[0m in \u001b[0;36m__call__\u001b[0;34m(self, *args, **kwargs)\u001b[0m\n\u001b[1;32m    182\u001b[0m     \u001b[0;32mdef\u001b[0m \u001b[0m__call__\u001b[0m\u001b[0;34m(\u001b[0m\u001b[0mself\u001b[0m\u001b[0;34m,\u001b[0m \u001b[0;34m*\u001b[0m\u001b[0margs\u001b[0m\u001b[0;34m,\u001b[0m \u001b[0;34m**\u001b[0m\u001b[0mkwargs\u001b[0m\u001b[0;34m)\u001b[0m\u001b[0;34m:\u001b[0m\u001b[0;34m\u001b[0m\u001b[0;34m\u001b[0m\u001b[0m\n\u001b[1;32m    183\u001b[0m         \u001b[0;34m\"\"\"Resolve and dispatch to best method.\"\"\"\u001b[0m\u001b[0;34m\u001b[0m\u001b[0;34m\u001b[0m\u001b[0m\n\u001b[0;32m--> 184\u001b[0;31m         \u001b[0;32mreturn\u001b[0m \u001b[0mself\u001b[0m\u001b[0;34m[\u001b[0m\u001b[0mtuple\u001b[0m\u001b[0;34m(\u001b[0m\u001b[0mmap\u001b[0m\u001b[0;34m(\u001b[0m\u001b[0mself\u001b[0m\u001b[0;34m.\u001b[0m\u001b[0mget_type\u001b[0m\u001b[0;34m,\u001b[0m \u001b[0margs\u001b[0m\u001b[0;34m)\u001b[0m\u001b[0;34m)\u001b[0m\u001b[0;34m]\u001b[0m\u001b[0;34m(\u001b[0m\u001b[0;34m*\u001b[0m\u001b[0margs\u001b[0m\u001b[0;34m,\u001b[0m \u001b[0;34m**\u001b[0m\u001b[0mkwargs\u001b[0m\u001b[0;34m)\u001b[0m\u001b[0;34m\u001b[0m\u001b[0;34m\u001b[0m\u001b[0m\n\u001b[0m\u001b[1;32m    185\u001b[0m \u001b[0;34m\u001b[0m\u001b[0m\n\u001b[1;32m    186\u001b[0m     \u001b[0;32mdef\u001b[0m \u001b[0mevaluate\u001b[0m\u001b[0;34m(\u001b[0m\u001b[0mself\u001b[0m\u001b[0;34m)\u001b[0m\u001b[0;34m:\u001b[0m\u001b[0;34m\u001b[0m\u001b[0;34m\u001b[0m\u001b[0m\n",
            "\u001b[0;32m<ipython-input-6-4f4f6098dbaf>\u001b[0m in \u001b[0;36mvisit\u001b[0;34m(self, node)\u001b[0m\n\u001b[1;32m     83\u001b[0m     \u001b[0;32mdef\u001b[0m \u001b[0mvisit\u001b[0m\u001b[0;34m(\u001b[0m\u001b[0mself\u001b[0m\u001b[0;34m,\u001b[0m \u001b[0mnode\u001b[0m\u001b[0;34m:\u001b[0m \u001b[0mSimpleLocation\u001b[0m\u001b[0;34m)\u001b[0m\u001b[0;34m:\u001b[0m\u001b[0;34m\u001b[0m\u001b[0;34m\u001b[0m\u001b[0m\n\u001b[1;32m     84\u001b[0m         \u001b[0mname\u001b[0m \u001b[0;34m=\u001b[0m \u001b[0mself\u001b[0m\u001b[0;34m.\u001b[0m\u001b[0m_id\u001b[0m\u001b[0;34m(\u001b[0m\u001b[0;34m)\u001b[0m\u001b[0;34m\u001b[0m\u001b[0;34m\u001b[0m\u001b[0m\n\u001b[0;32m---> 85\u001b[0;31m         \u001b[0massignaciones\u001b[0m\u001b[0;34m[\u001b[0m\u001b[0mnode\u001b[0m\u001b[0;34m.\u001b[0m\u001b[0mname\u001b[0m\u001b[0;34m]\u001b[0m \u001b[0;34m=\u001b[0m \u001b[0;36m0\u001b[0m\u001b[0;34m\u001b[0m\u001b[0;34m\u001b[0m\u001b[0m\n\u001b[0m\u001b[1;32m     86\u001b[0m         \u001b[0mlabel\u001b[0m \u001b[0;34m=\u001b[0m \u001b[0;34m'variable\\nname: {}'\u001b[0m\u001b[0;34m.\u001b[0m\u001b[0mformat\u001b[0m\u001b[0;34m(\u001b[0m\u001b[0mnode\u001b[0m\u001b[0;34m.\u001b[0m\u001b[0mname\u001b[0m\u001b[0;34m)\u001b[0m\u001b[0;34m\u001b[0m\u001b[0;34m\u001b[0m\u001b[0m\n\u001b[1;32m     87\u001b[0m         \u001b[0mself\u001b[0m\u001b[0;34m.\u001b[0m\u001b[0mdot\u001b[0m\u001b[0;34m.\u001b[0m\u001b[0mnode\u001b[0m\u001b[0;34m(\u001b[0m\u001b[0mname\u001b[0m\u001b[0;34m,\u001b[0m \u001b[0mlabel\u001b[0m\u001b[0;34m,\u001b[0m \u001b[0mcolor\u001b[0m\u001b[0;34m=\u001b[0m\u001b[0;34m'limegreen'\u001b[0m\u001b[0;34m)\u001b[0m\u001b[0;34m\u001b[0m\u001b[0;34m\u001b[0m\u001b[0m\n",
            "\u001b[0;31mNameError\u001b[0m: name 'assignaciones' is not defined"
          ]
        }
      ]
    },
    {
      "cell_type": "markdown",
      "metadata": {
        "id": "rURDIjl8dHuO"
      },
      "source": [
        "## Taller"
      ]
    },
    {
      "cell_type": "markdown",
      "metadata": {
        "id": "PR42g9LUdHuP"
      },
      "source": [
        "1. Agregar el operador `^` (potencia) con la misma precedencia de `*` y `/`\n",
        "2. Crear un visitante para evaluar la expresión aritmética\n",
        "3. Modificar la gramática para aceptar varias lineas de asignación y realizar la siguiente entrada (calcular pi):\n",
        "\n",
        "![](data:image/png;base64,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)"
      ]
    },
    {
      "cell_type": "code",
      "metadata": {
        "id": "imKgoj2MdHuQ"
      },
      "source": [],
      "execution_count": null,
      "outputs": []
    }
  ]
}